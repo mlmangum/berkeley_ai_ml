{
  "cells": [
    {
      "cell_type": "markdown",
      "metadata": {
        "id": "SkvijhYTnH4f"
      },
      "source": [
        "### Will a Customer Accept the Coupon?\n",
        "\n",
        "**Context**\n",
        "\n",
        "Imagine driving through town and a coupon is delivered to your cell phone for a restaraunt near where you are driving. Would you accept that coupon and take a short detour to the restaraunt? Would you accept the coupon but use it on a sunbsequent trip? Would you ignore the coupon entirely? What if the coupon was for a bar instead of a restaraunt? What about a coffee house? Would you accept a bar coupon with a minor passenger in the car? What about if it was just you and your partner in the car? Would weather impact the rate of acceptance? What about the time of day?\n",
        "\n",
        "Obviously, proximity to the business is a factor on whether the coupon is delivered to the driver or not, but what are the factors that determine whether a driver accepts the coupon once it is delivered to them? How would you determine whether a driver is likely to accept a coupon?\n",
        "\n",
        "**Overview**\n",
        "\n",
        "The goal of this project is to use what you know about visualizations and probability distributions to distinguish between customers who accepted a driving coupon versus those that did not.\n",
        "\n",
        "**Data**\n",
        "\n",
        "This data comes to us from the UCI Machine Learning repository and was collected via a survey on Amazon Mechanical Turk. The survey describes different driving scenarios including the destination, current time, weather, passenger, etc., and then ask the person whether he will accept the coupon if he is the driver. Answers that the user will drive there ‘right away’ or ‘later before the coupon expires’ are labeled as ‘Y = 1’ and answers ‘no, I do not want the coupon’ are labeled as ‘Y = 0’.  There are five different types of coupons -- less expensive restaurants (under \\\\$20), coffee houses, carry out & take away, bar, and more expensive restaurants (\\\\$20 - \\\\$50)."
      ]
    },
    {
      "cell_type": "markdown",
      "metadata": {
        "id": "62fEHqPVnH4i"
      },
      "source": [
        "**Deliverables**\n",
        "\n",
        "Your final product should be a brief report that highlights the differences between customers who did and did not accept the coupons.  To explore the data you will utilize your knowledge of plotting, statistical summaries, and visualization using Python. You will publish your findings in a public facing github repository as your first portfolio piece.\n",
        "\n",
        "\n",
        "\n"
      ]
    },
    {
      "cell_type": "markdown",
      "metadata": {
        "id": "mToLEXAvnH4j"
      },
      "source": [
        "### Data Description\n",
        "Keep in mind that these values mentioned below are average values.\n",
        "\n",
        "The attributes of this data set include:\n",
        "1. User attributes\n",
        "    -  Gender: male, female\n",
        "    -  Age: below 21, 21 to 25, 26 to 30, etc.\n",
        "    -  Marital Status: single, married partner, unmarried partner, or widowed\n",
        "    -  Number of children: 0, 1, or more than 1\n",
        "    -  Education: high school, bachelors degree, associates degree, or graduate degree\n",
        "    -  Occupation: architecture & engineering, business & financial, etc.\n",
        "    -  Annual income: less than \\\\$12500, \\\\$12500 - \\\\$24999, \\\\$25000 - \\\\$37499, etc.\n",
        "    -  Number of times that he/she goes to a bar: 0, less than 1, 1 to 3, 4 to 8 or greater than 8\n",
        "    -  Number of times that he/she buys takeaway food: 0, less than 1, 1 to 3, 4 to 8 or greater\n",
        "    than 8\n",
        "    -  Number of times that he/she goes to a coffee house: 0, less than 1, 1 to 3, 4 to 8 or\n",
        "    greater than 8\n",
        "    -  Number of times that he/she eats at a restaurant with average expense less than \\\\$20 per\n",
        "    person: 0, less than 1, 1 to 3, 4 to 8 or greater than 8\n",
        "    -  Number of times that he/she goes to a bar: 0, less than 1, 1 to 3, 4 to 8 or greater than 8\n",
        "\n",
        "\n",
        "2. Contextual attributes\n",
        "    - Driving destination: home, work, or no urgent destination\n",
        "    - Location of user, coupon and destination: we provide a map to show the geographical\n",
        "    location of the user, destination, and the venue, and we mark the distance between each\n",
        "    two places with time of driving. The user can see whether the venue is in the same\n",
        "    direction as the destination.\n",
        "    - Weather: sunny, rainy, or snowy\n",
        "    - Temperature: 30F, 55F, or 80F\n",
        "    - Time: 10AM, 2PM, or 6PM\n",
        "    - Passenger: alone, partner, kid(s), or friend(s)\n",
        "\n",
        "\n",
        "3. Coupon attributes\n",
        "    - time before it expires: 2 hours or one day"
      ]
    },
    {
      "cell_type": "code",
      "execution_count": 1,
      "metadata": {
        "id": "PDKUFmdcnH4j"
      },
      "outputs": [],
      "source": [
        "import matplotlib.pyplot as plt\n",
        "import seaborn as sns\n",
        "import pandas as pd\n",
        "import numpy as np\n",
        "import plotly.express as px"
      ]
    },
    {
      "cell_type": "markdown",
      "metadata": {
        "id": "ghvtyr06nH4l"
      },
      "source": [
        "### Data Cleaning\n",
        "\n",
        "Use the prompts below to get started with your data analysis.\n",
        "\n",
        "#### 1. Read in the `coupons.csv` file.\n",
        "\n",
        "\n"
      ]
    },
    {
      "cell_type": "code",
      "execution_count": 2,
      "metadata": {
        "id": "YWruT2RtnH4l"
      },
      "outputs": [],
      "source": [
        "def trimurl(u):\n",
        "  url1=u[:u.index('/view')]\n",
        "  url2 = url1.replace(url1[url1.index('file/d/'):url1.index('file/d/')+7],'uc?export=download&id=')\n",
        "  return url2\n",
        "rawdata = pd.read_csv(trimurl('https://drive.google.com/file/d/11p2XPYbpA_zLBzse6FoOi5sXcBox4NYb/view?usp=sharing'))\n",
        "data=rawdata"
      ]
    },
    {
      "cell_type": "code",
      "execution_count": 3,
      "metadata": {
        "id": "p6RTwp9hnH4m",
        "outputId": "a447f2d4-9ec9-4b70-9aa9-da428db9794b",
        "colab": {
          "base_uri": "https://localhost:8080/",
          "height": 392
        }
      },
      "outputs": [
        {
          "output_type": "execute_result",
          "data": {
            "text/plain": [
              "           destination  passanger weather  temperature  time  \\\n",
              "11588             Work      Alone   Snowy           30   7AM   \n",
              "5675   No Urgent Place      Alone   Sunny           80  10AM   \n",
              "8891   No Urgent Place  Friend(s)   Sunny           80  10PM   \n",
              "12628             Home    Partner   Sunny           30  10PM   \n",
              "1635   No Urgent Place  Friend(s)   Sunny           80  10AM   \n",
              "1797   No Urgent Place     Kid(s)   Sunny           80   2PM   \n",
              "7755   No Urgent Place  Friend(s)   Sunny           30  10PM   \n",
              "6989              Home      Alone   Snowy           30   6PM   \n",
              "4264   No Urgent Place  Friend(s)   Sunny           80   6PM   \n",
              "3367   No Urgent Place  Friend(s)   Sunny           80   2PM   \n",
              "\n",
              "                      coupon expiration  gender age      maritalStatus  ...  \\\n",
              "11588           Coffee House         1d    Male  36  Unmarried partner  ...   \n",
              "5675                     Bar         1d    Male  21             Single  ...   \n",
              "8891            Coffee House         1d    Male  26  Unmarried partner  ...   \n",
              "12628        Restaurant(<20)         2h  Female  21  Unmarried partner  ...   \n",
              "1635   Carry out & Take away         2h  Female  26    Married partner  ...   \n",
              "1797         Restaurant(<20)         1d    Male  36  Unmarried partner  ...   \n",
              "7755         Restaurant(<20)         2h    Male  21  Unmarried partner  ...   \n",
              "6989            Coffee House         1d    Male  36    Married partner  ...   \n",
              "4264         Restaurant(<20)         1d  Female  26             Single  ...   \n",
              "3367         Restaurant(<20)         1d    Male  26             Single  ...   \n",
              "\n",
              "       CoffeeHouse CarryAway RestaurantLessThan20 Restaurant20To50  \\\n",
              "11588          4~8       4~8                less1            less1   \n",
              "5675           1~3       gt8                  4~8            never   \n",
              "8891         less1       4~8                  1~3            less1   \n",
              "12628          4~8       1~3                  1~3            less1   \n",
              "1635           4~8       1~3                  4~8            less1   \n",
              "1797         less1       4~8                  1~3            less1   \n",
              "7755           1~3       4~8                  1~3            less1   \n",
              "6989         never       1~3                  4~8            never   \n",
              "4264         never       4~8                  1~3            less1   \n",
              "3367         never       4~8                  1~3            never   \n",
              "\n",
              "      toCoupon_GEQ5min toCoupon_GEQ15min toCoupon_GEQ25min direction_same  \\\n",
              "11588                1                 0                 0              1   \n",
              "5675                 1                 0                 0              0   \n",
              "8891                 1                 1                 0              0   \n",
              "12628                1                 1                 0              1   \n",
              "1635                 1                 1                 0              0   \n",
              "1797                 1                 0                 0              0   \n",
              "7755                 1                 0                 0              0   \n",
              "6989                 1                 1                 0              0   \n",
              "4264                 1                 1                 0              0   \n",
              "3367                 1                 1                 0              0   \n",
              "\n",
              "      direction_opp  Y  \n",
              "11588             0  1  \n",
              "5675              1  0  \n",
              "8891              1  1  \n",
              "12628             0  0  \n",
              "1635              1  0  \n",
              "1797              1  1  \n",
              "7755              1  1  \n",
              "6989              1  0  \n",
              "4264              1  1  \n",
              "3367              1  1  \n",
              "\n",
              "[10 rows x 26 columns]"
            ],
            "text/html": [
              "\n",
              "  <div id=\"df-d4546825-e6df-44de-b6eb-ce8319fe29e9\">\n",
              "    <div class=\"colab-df-container\">\n",
              "      <div>\n",
              "<style scoped>\n",
              "    .dataframe tbody tr th:only-of-type {\n",
              "        vertical-align: middle;\n",
              "    }\n",
              "\n",
              "    .dataframe tbody tr th {\n",
              "        vertical-align: top;\n",
              "    }\n",
              "\n",
              "    .dataframe thead th {\n",
              "        text-align: right;\n",
              "    }\n",
              "</style>\n",
              "<table border=\"1\" class=\"dataframe\">\n",
              "  <thead>\n",
              "    <tr style=\"text-align: right;\">\n",
              "      <th></th>\n",
              "      <th>destination</th>\n",
              "      <th>passanger</th>\n",
              "      <th>weather</th>\n",
              "      <th>temperature</th>\n",
              "      <th>time</th>\n",
              "      <th>coupon</th>\n",
              "      <th>expiration</th>\n",
              "      <th>gender</th>\n",
              "      <th>age</th>\n",
              "      <th>maritalStatus</th>\n",
              "      <th>...</th>\n",
              "      <th>CoffeeHouse</th>\n",
              "      <th>CarryAway</th>\n",
              "      <th>RestaurantLessThan20</th>\n",
              "      <th>Restaurant20To50</th>\n",
              "      <th>toCoupon_GEQ5min</th>\n",
              "      <th>toCoupon_GEQ15min</th>\n",
              "      <th>toCoupon_GEQ25min</th>\n",
              "      <th>direction_same</th>\n",
              "      <th>direction_opp</th>\n",
              "      <th>Y</th>\n",
              "    </tr>\n",
              "  </thead>\n",
              "  <tbody>\n",
              "    <tr>\n",
              "      <th>11588</th>\n",
              "      <td>Work</td>\n",
              "      <td>Alone</td>\n",
              "      <td>Snowy</td>\n",
              "      <td>30</td>\n",
              "      <td>7AM</td>\n",
              "      <td>Coffee House</td>\n",
              "      <td>1d</td>\n",
              "      <td>Male</td>\n",
              "      <td>36</td>\n",
              "      <td>Unmarried partner</td>\n",
              "      <td>...</td>\n",
              "      <td>4~8</td>\n",
              "      <td>4~8</td>\n",
              "      <td>less1</td>\n",
              "      <td>less1</td>\n",
              "      <td>1</td>\n",
              "      <td>0</td>\n",
              "      <td>0</td>\n",
              "      <td>1</td>\n",
              "      <td>0</td>\n",
              "      <td>1</td>\n",
              "    </tr>\n",
              "    <tr>\n",
              "      <th>5675</th>\n",
              "      <td>No Urgent Place</td>\n",
              "      <td>Alone</td>\n",
              "      <td>Sunny</td>\n",
              "      <td>80</td>\n",
              "      <td>10AM</td>\n",
              "      <td>Bar</td>\n",
              "      <td>1d</td>\n",
              "      <td>Male</td>\n",
              "      <td>21</td>\n",
              "      <td>Single</td>\n",
              "      <td>...</td>\n",
              "      <td>1~3</td>\n",
              "      <td>gt8</td>\n",
              "      <td>4~8</td>\n",
              "      <td>never</td>\n",
              "      <td>1</td>\n",
              "      <td>0</td>\n",
              "      <td>0</td>\n",
              "      <td>0</td>\n",
              "      <td>1</td>\n",
              "      <td>0</td>\n",
              "    </tr>\n",
              "    <tr>\n",
              "      <th>8891</th>\n",
              "      <td>No Urgent Place</td>\n",
              "      <td>Friend(s)</td>\n",
              "      <td>Sunny</td>\n",
              "      <td>80</td>\n",
              "      <td>10PM</td>\n",
              "      <td>Coffee House</td>\n",
              "      <td>1d</td>\n",
              "      <td>Male</td>\n",
              "      <td>26</td>\n",
              "      <td>Unmarried partner</td>\n",
              "      <td>...</td>\n",
              "      <td>less1</td>\n",
              "      <td>4~8</td>\n",
              "      <td>1~3</td>\n",
              "      <td>less1</td>\n",
              "      <td>1</td>\n",
              "      <td>1</td>\n",
              "      <td>0</td>\n",
              "      <td>0</td>\n",
              "      <td>1</td>\n",
              "      <td>1</td>\n",
              "    </tr>\n",
              "    <tr>\n",
              "      <th>12628</th>\n",
              "      <td>Home</td>\n",
              "      <td>Partner</td>\n",
              "      <td>Sunny</td>\n",
              "      <td>30</td>\n",
              "      <td>10PM</td>\n",
              "      <td>Restaurant(&lt;20)</td>\n",
              "      <td>2h</td>\n",
              "      <td>Female</td>\n",
              "      <td>21</td>\n",
              "      <td>Unmarried partner</td>\n",
              "      <td>...</td>\n",
              "      <td>4~8</td>\n",
              "      <td>1~3</td>\n",
              "      <td>1~3</td>\n",
              "      <td>less1</td>\n",
              "      <td>1</td>\n",
              "      <td>1</td>\n",
              "      <td>0</td>\n",
              "      <td>1</td>\n",
              "      <td>0</td>\n",
              "      <td>0</td>\n",
              "    </tr>\n",
              "    <tr>\n",
              "      <th>1635</th>\n",
              "      <td>No Urgent Place</td>\n",
              "      <td>Friend(s)</td>\n",
              "      <td>Sunny</td>\n",
              "      <td>80</td>\n",
              "      <td>10AM</td>\n",
              "      <td>Carry out &amp; Take away</td>\n",
              "      <td>2h</td>\n",
              "      <td>Female</td>\n",
              "      <td>26</td>\n",
              "      <td>Married partner</td>\n",
              "      <td>...</td>\n",
              "      <td>4~8</td>\n",
              "      <td>1~3</td>\n",
              "      <td>4~8</td>\n",
              "      <td>less1</td>\n",
              "      <td>1</td>\n",
              "      <td>1</td>\n",
              "      <td>0</td>\n",
              "      <td>0</td>\n",
              "      <td>1</td>\n",
              "      <td>0</td>\n",
              "    </tr>\n",
              "    <tr>\n",
              "      <th>1797</th>\n",
              "      <td>No Urgent Place</td>\n",
              "      <td>Kid(s)</td>\n",
              "      <td>Sunny</td>\n",
              "      <td>80</td>\n",
              "      <td>2PM</td>\n",
              "      <td>Restaurant(&lt;20)</td>\n",
              "      <td>1d</td>\n",
              "      <td>Male</td>\n",
              "      <td>36</td>\n",
              "      <td>Unmarried partner</td>\n",
              "      <td>...</td>\n",
              "      <td>less1</td>\n",
              "      <td>4~8</td>\n",
              "      <td>1~3</td>\n",
              "      <td>less1</td>\n",
              "      <td>1</td>\n",
              "      <td>0</td>\n",
              "      <td>0</td>\n",
              "      <td>0</td>\n",
              "      <td>1</td>\n",
              "      <td>1</td>\n",
              "    </tr>\n",
              "    <tr>\n",
              "      <th>7755</th>\n",
              "      <td>No Urgent Place</td>\n",
              "      <td>Friend(s)</td>\n",
              "      <td>Sunny</td>\n",
              "      <td>30</td>\n",
              "      <td>10PM</td>\n",
              "      <td>Restaurant(&lt;20)</td>\n",
              "      <td>2h</td>\n",
              "      <td>Male</td>\n",
              "      <td>21</td>\n",
              "      <td>Unmarried partner</td>\n",
              "      <td>...</td>\n",
              "      <td>1~3</td>\n",
              "      <td>4~8</td>\n",
              "      <td>1~3</td>\n",
              "      <td>less1</td>\n",
              "      <td>1</td>\n",
              "      <td>0</td>\n",
              "      <td>0</td>\n",
              "      <td>0</td>\n",
              "      <td>1</td>\n",
              "      <td>1</td>\n",
              "    </tr>\n",
              "    <tr>\n",
              "      <th>6989</th>\n",
              "      <td>Home</td>\n",
              "      <td>Alone</td>\n",
              "      <td>Snowy</td>\n",
              "      <td>30</td>\n",
              "      <td>6PM</td>\n",
              "      <td>Coffee House</td>\n",
              "      <td>1d</td>\n",
              "      <td>Male</td>\n",
              "      <td>36</td>\n",
              "      <td>Married partner</td>\n",
              "      <td>...</td>\n",
              "      <td>never</td>\n",
              "      <td>1~3</td>\n",
              "      <td>4~8</td>\n",
              "      <td>never</td>\n",
              "      <td>1</td>\n",
              "      <td>1</td>\n",
              "      <td>0</td>\n",
              "      <td>0</td>\n",
              "      <td>1</td>\n",
              "      <td>0</td>\n",
              "    </tr>\n",
              "    <tr>\n",
              "      <th>4264</th>\n",
              "      <td>No Urgent Place</td>\n",
              "      <td>Friend(s)</td>\n",
              "      <td>Sunny</td>\n",
              "      <td>80</td>\n",
              "      <td>6PM</td>\n",
              "      <td>Restaurant(&lt;20)</td>\n",
              "      <td>1d</td>\n",
              "      <td>Female</td>\n",
              "      <td>26</td>\n",
              "      <td>Single</td>\n",
              "      <td>...</td>\n",
              "      <td>never</td>\n",
              "      <td>4~8</td>\n",
              "      <td>1~3</td>\n",
              "      <td>less1</td>\n",
              "      <td>1</td>\n",
              "      <td>1</td>\n",
              "      <td>0</td>\n",
              "      <td>0</td>\n",
              "      <td>1</td>\n",
              "      <td>1</td>\n",
              "    </tr>\n",
              "    <tr>\n",
              "      <th>3367</th>\n",
              "      <td>No Urgent Place</td>\n",
              "      <td>Friend(s)</td>\n",
              "      <td>Sunny</td>\n",
              "      <td>80</td>\n",
              "      <td>2PM</td>\n",
              "      <td>Restaurant(&lt;20)</td>\n",
              "      <td>1d</td>\n",
              "      <td>Male</td>\n",
              "      <td>26</td>\n",
              "      <td>Single</td>\n",
              "      <td>...</td>\n",
              "      <td>never</td>\n",
              "      <td>4~8</td>\n",
              "      <td>1~3</td>\n",
              "      <td>never</td>\n",
              "      <td>1</td>\n",
              "      <td>1</td>\n",
              "      <td>0</td>\n",
              "      <td>0</td>\n",
              "      <td>1</td>\n",
              "      <td>1</td>\n",
              "    </tr>\n",
              "  </tbody>\n",
              "</table>\n",
              "<p>10 rows × 26 columns</p>\n",
              "</div>\n",
              "      <button class=\"colab-df-convert\" onclick=\"convertToInteractive('df-d4546825-e6df-44de-b6eb-ce8319fe29e9')\"\n",
              "              title=\"Convert this dataframe to an interactive table.\"\n",
              "              style=\"display:none;\">\n",
              "        \n",
              "  <svg xmlns=\"http://www.w3.org/2000/svg\" height=\"24px\"viewBox=\"0 0 24 24\"\n",
              "       width=\"24px\">\n",
              "    <path d=\"M0 0h24v24H0V0z\" fill=\"none\"/>\n",
              "    <path d=\"M18.56 5.44l.94 2.06.94-2.06 2.06-.94-2.06-.94-.94-2.06-.94 2.06-2.06.94zm-11 1L8.5 8.5l.94-2.06 2.06-.94-2.06-.94L8.5 2.5l-.94 2.06-2.06.94zm10 10l.94 2.06.94-2.06 2.06-.94-2.06-.94-.94-2.06-.94 2.06-2.06.94z\"/><path d=\"M17.41 7.96l-1.37-1.37c-.4-.4-.92-.59-1.43-.59-.52 0-1.04.2-1.43.59L10.3 9.45l-7.72 7.72c-.78.78-.78 2.05 0 2.83L4 21.41c.39.39.9.59 1.41.59.51 0 1.02-.2 1.41-.59l7.78-7.78 2.81-2.81c.8-.78.8-2.07 0-2.86zM5.41 20L4 18.59l7.72-7.72 1.47 1.35L5.41 20z\"/>\n",
              "  </svg>\n",
              "      </button>\n",
              "      \n",
              "  <style>\n",
              "    .colab-df-container {\n",
              "      display:flex;\n",
              "      flex-wrap:wrap;\n",
              "      gap: 12px;\n",
              "    }\n",
              "\n",
              "    .colab-df-convert {\n",
              "      background-color: #E8F0FE;\n",
              "      border: none;\n",
              "      border-radius: 50%;\n",
              "      cursor: pointer;\n",
              "      display: none;\n",
              "      fill: #1967D2;\n",
              "      height: 32px;\n",
              "      padding: 0 0 0 0;\n",
              "      width: 32px;\n",
              "    }\n",
              "\n",
              "    .colab-df-convert:hover {\n",
              "      background-color: #E2EBFA;\n",
              "      box-shadow: 0px 1px 2px rgba(60, 64, 67, 0.3), 0px 1px 3px 1px rgba(60, 64, 67, 0.15);\n",
              "      fill: #174EA6;\n",
              "    }\n",
              "\n",
              "    [theme=dark] .colab-df-convert {\n",
              "      background-color: #3B4455;\n",
              "      fill: #D2E3FC;\n",
              "    }\n",
              "\n",
              "    [theme=dark] .colab-df-convert:hover {\n",
              "      background-color: #434B5C;\n",
              "      box-shadow: 0px 1px 3px 1px rgba(0, 0, 0, 0.15);\n",
              "      filter: drop-shadow(0px 1px 2px rgba(0, 0, 0, 0.3));\n",
              "      fill: #FFFFFF;\n",
              "    }\n",
              "  </style>\n",
              "\n",
              "      <script>\n",
              "        const buttonEl =\n",
              "          document.querySelector('#df-d4546825-e6df-44de-b6eb-ce8319fe29e9 button.colab-df-convert');\n",
              "        buttonEl.style.display =\n",
              "          google.colab.kernel.accessAllowed ? 'block' : 'none';\n",
              "\n",
              "        async function convertToInteractive(key) {\n",
              "          const element = document.querySelector('#df-d4546825-e6df-44de-b6eb-ce8319fe29e9');\n",
              "          const dataTable =\n",
              "            await google.colab.kernel.invokeFunction('convertToInteractive',\n",
              "                                                     [key], {});\n",
              "          if (!dataTable) return;\n",
              "\n",
              "          const docLinkHtml = 'Like what you see? Visit the ' +\n",
              "            '<a target=\"_blank\" href=https://colab.research.google.com/notebooks/data_table.ipynb>data table notebook</a>'\n",
              "            + ' to learn more about interactive tables.';\n",
              "          element.innerHTML = '';\n",
              "          dataTable['output_type'] = 'display_data';\n",
              "          await google.colab.output.renderOutput(dataTable, element);\n",
              "          const docLink = document.createElement('div');\n",
              "          docLink.innerHTML = docLinkHtml;\n",
              "          element.appendChild(docLink);\n",
              "        }\n",
              "      </script>\n",
              "    </div>\n",
              "  </div>\n",
              "  "
            ]
          },
          "metadata": {},
          "execution_count": 3
        }
      ],
      "source": [
        "data.sample(10)"
      ]
    },
    {
      "cell_type": "markdown",
      "metadata": {
        "id": "R5Imz-DbnH4n"
      },
      "source": [
        "#### 2. Investigate the dataset for missing or problematic data."
      ]
    },
    {
      "cell_type": "code",
      "execution_count": 4,
      "metadata": {
        "id": "5KpZqhNHnH4n",
        "outputId": "1df21fc5-b84f-4a5e-e958-64acaa7d9065",
        "colab": {
          "base_uri": "https://localhost:8080/"
        }
      },
      "outputs": [
        {
          "output_type": "stream",
          "name": "stdout",
          "text": [
            "<class 'pandas.core.frame.DataFrame'>\n",
            "RangeIndex: 12684 entries, 0 to 12683\n",
            "Data columns (total 26 columns):\n",
            " #   Column                Non-Null Count  Dtype \n",
            "---  ------                --------------  ----- \n",
            " 0   destination           12684 non-null  object\n",
            " 1   passanger             12684 non-null  object\n",
            " 2   weather               12684 non-null  object\n",
            " 3   temperature           12684 non-null  int64 \n",
            " 4   time                  12684 non-null  object\n",
            " 5   coupon                12684 non-null  object\n",
            " 6   expiration            12684 non-null  object\n",
            " 7   gender                12684 non-null  object\n",
            " 8   age                   12684 non-null  object\n",
            " 9   maritalStatus         12684 non-null  object\n",
            " 10  has_children          12684 non-null  int64 \n",
            " 11  education             12684 non-null  object\n",
            " 12  occupation            12684 non-null  object\n",
            " 13  income                12684 non-null  object\n",
            " 14  car                   108 non-null    object\n",
            " 15  Bar                   12577 non-null  object\n",
            " 16  CoffeeHouse           12467 non-null  object\n",
            " 17  CarryAway             12533 non-null  object\n",
            " 18  RestaurantLessThan20  12554 non-null  object\n",
            " 19  Restaurant20To50      12495 non-null  object\n",
            " 20  toCoupon_GEQ5min      12684 non-null  int64 \n",
            " 21  toCoupon_GEQ15min     12684 non-null  int64 \n",
            " 22  toCoupon_GEQ25min     12684 non-null  int64 \n",
            " 23  direction_same        12684 non-null  int64 \n",
            " 24  direction_opp         12684 non-null  int64 \n",
            " 25  Y                     12684 non-null  int64 \n",
            "dtypes: int64(8), object(18)\n",
            "memory usage: 2.5+ MB\n"
          ]
        }
      ],
      "source": [
        "data.info()"
      ]
    },
    {
      "cell_type": "markdown",
      "metadata": {
        "id": "k80ljanDnH4n"
      },
      "source": [
        "#### Cleanup `NA` and `NaN` values\n",
        "**Comment:** Many variables with ```NA``` or ```NaN``` values. Need to view the unique outputs of each variable and group into appropriate outputs and datatypes for analysis"
      ]
    },
    {
      "cell_type": "markdown",
      "metadata": {
        "id": "WSy19tGdnH4o"
      },
      "source": [
        "3. Decide what to do about your missing data -- drop, replace, other..."
      ]
    },
    {
      "cell_type": "code",
      "execution_count": 5,
      "metadata": {
        "id": "O2aXzUmInH4o",
        "outputId": "87d7f24e-e614-4ede-e384-9ec9bc93fbe7",
        "colab": {
          "base_uri": "https://localhost:8080/"
        }
      },
      "outputs": [
        {
          "output_type": "execute_result",
          "data": {
            "text/plain": [
              "No Urgent Place    6283\n",
              "Home               3237\n",
              "Work               3164\n",
              "Name: destination, dtype: int64"
            ]
          },
          "metadata": {},
          "execution_count": 5
        }
      ],
      "source": [
        "data['destination'].value_counts()"
      ]
    },
    {
      "cell_type": "code",
      "execution_count": 6,
      "metadata": {
        "id": "tXDBLjN8nH4o",
        "outputId": "819e178b-034f-4082-f955-d949aa2b4bfd",
        "colab": {
          "base_uri": "https://localhost:8080/"
        }
      },
      "outputs": [
        {
          "output_type": "execute_result",
          "data": {
            "text/plain": [
              "Alone        7305\n",
              "Friend(s)    3298\n",
              "Partner      1075\n",
              "Kid(s)       1006\n",
              "Name: passenger, dtype: int64"
            ]
          },
          "metadata": {},
          "execution_count": 6
        }
      ],
      "source": [
        "data=data.rename(columns={'passanger':'passenger'})\n",
        "data['passenger'].value_counts()"
      ]
    },
    {
      "cell_type": "code",
      "execution_count": 7,
      "metadata": {
        "id": "zc8NfUlXnH4o",
        "outputId": "6594a7ed-84ce-47ed-d012-0240d0a2ddc4",
        "colab": {
          "base_uri": "https://localhost:8080/"
        }
      },
      "outputs": [
        {
          "output_type": "execute_result",
          "data": {
            "text/plain": [
              "Sunny    10069\n",
              "Snowy     1405\n",
              "Rainy     1210\n",
              "Name: weather, dtype: int64"
            ]
          },
          "metadata": {},
          "execution_count": 7
        }
      ],
      "source": [
        "data['weather'].value_counts()"
      ]
    },
    {
      "cell_type": "code",
      "execution_count": 8,
      "metadata": {
        "id": "aFrxqh_WnH4p",
        "outputId": "44893d18-a9f9-40b0-b55f-552fd21527c2",
        "colab": {
          "base_uri": "https://localhost:8080/"
        }
      },
      "outputs": [
        {
          "output_type": "execute_result",
          "data": {
            "text/plain": [
              "80    6528\n",
              "55    3840\n",
              "30    2316\n",
              "Name: temperature, dtype: int64"
            ]
          },
          "metadata": {},
          "execution_count": 8
        }
      ],
      "source": [
        "data['temperature'].value_counts()"
      ]
    },
    {
      "cell_type": "code",
      "execution_count": 9,
      "metadata": {
        "id": "Q2od79A7nH4p",
        "outputId": "776ac8ba-628f-4005-be41-80e9bdee0b3b",
        "colab": {
          "base_uri": "https://localhost:8080/"
        }
      },
      "outputs": [
        {
          "output_type": "execute_result",
          "data": {
            "text/plain": [
              "6PM     3230\n",
              "7AM     3164\n",
              "10AM    2275\n",
              "2PM     2009\n",
              "10PM    2006\n",
              "Name: time, dtype: int64"
            ]
          },
          "metadata": {},
          "execution_count": 9
        }
      ],
      "source": [
        "data['time'].value_counts()"
      ]
    },
    {
      "cell_type": "markdown",
      "source": [
        "**Comment:** Can convert time to 24-hour standard and make it a continuous `int` variable, making it easier to compare with other continuous variables.  Will rename the `time` variable as `hourofday`"
      ],
      "metadata": {
        "id": "P_aqhrKjrLNX"
      }
    },
    {
      "cell_type": "code",
      "source": [
        "data['time'][1][-2]\n",
        "\n",
        "for x in range (0,len(data)):\n",
        "  if data['time'][x][-2]=='P':\n",
        "    data['time'][x]=int(data['time'][x][:-2])+12\n",
        "  else:\n",
        "    data['time'][x]=int(data['time'][x][:-2])\n",
        "\n",
        "data=data.rename(columns={'time':'hourofday'})"
      ],
      "metadata": {
        "id": "dxCkTNcp77My",
        "outputId": "7c4605ab-cf64-4609-c7e0-eee08d3ad665",
        "colab": {
          "base_uri": "https://localhost:8080/"
        }
      },
      "execution_count": 10,
      "outputs": [
        {
          "output_type": "stream",
          "name": "stderr",
          "text": [
            "<ipython-input-10-de8b9f1e4020>:5: SettingWithCopyWarning: \n",
            "A value is trying to be set on a copy of a slice from a DataFrame\n",
            "\n",
            "See the caveats in the documentation: https://pandas.pydata.org/pandas-docs/stable/user_guide/indexing.html#returning-a-view-versus-a-copy\n",
            "  data['time'][x]=int(data['time'][x][:-2])+12\n",
            "<ipython-input-10-de8b9f1e4020>:7: SettingWithCopyWarning: \n",
            "A value is trying to be set on a copy of a slice from a DataFrame\n",
            "\n",
            "See the caveats in the documentation: https://pandas.pydata.org/pandas-docs/stable/user_guide/indexing.html#returning-a-view-versus-a-copy\n",
            "  data['time'][x]=int(data['time'][x][:-2])\n"
          ]
        }
      ]
    },
    {
      "cell_type": "code",
      "execution_count": 11,
      "metadata": {
        "id": "B6-uXvUMnH4p",
        "outputId": "19744458-fca1-4327-fb7a-fe2bf9c9729e",
        "colab": {
          "base_uri": "https://localhost:8080/"
        }
      },
      "outputs": [
        {
          "output_type": "execute_result",
          "data": {
            "text/plain": [
              "Coffee House             3996\n",
              "Restaurant(<20)          2786\n",
              "Carry out & Take away    2393\n",
              "Bar                      2017\n",
              "Restaurant(20-50)        1492\n",
              "Name: coupon, dtype: int64"
            ]
          },
          "metadata": {},
          "execution_count": 11
        }
      ],
      "source": [
        "data['coupon'].value_counts()"
      ]
    },
    {
      "cell_type": "code",
      "execution_count": 12,
      "metadata": {
        "id": "fF8SbdfKnH4q",
        "outputId": "723d0ab9-8c1d-4775-b146-376f38e1240c",
        "colab": {
          "base_uri": "https://localhost:8080/"
        }
      },
      "outputs": [
        {
          "output_type": "execute_result",
          "data": {
            "text/plain": [
              "1d    7091\n",
              "2h    5593\n",
              "Name: expiration, dtype: int64"
            ]
          },
          "metadata": {},
          "execution_count": 12
        }
      ],
      "source": [
        "data['expiration'].value_counts()"
      ]
    },
    {
      "cell_type": "code",
      "execution_count": 13,
      "metadata": {
        "id": "sX3PAq1OnH4q",
        "outputId": "37d6ca2d-cc43-4c23-b6a9-fbef73a5804b",
        "colab": {
          "base_uri": "https://localhost:8080/"
        }
      },
      "outputs": [
        {
          "output_type": "execute_result",
          "data": {
            "text/plain": [
              "Female    6511\n",
              "Male      6173\n",
              "Name: gender, dtype: int64"
            ]
          },
          "metadata": {},
          "execution_count": 13
        }
      ],
      "source": [
        "data['gender'].value_counts()"
      ]
    },
    {
      "cell_type": "code",
      "execution_count": 14,
      "metadata": {
        "id": "1mSIdazJnH4q",
        "outputId": "0a1747da-0b0a-45cf-cf96-4903a50f0299",
        "colab": {
          "base_uri": "https://localhost:8080/"
        }
      },
      "outputs": [
        {
          "output_type": "execute_result",
          "data": {
            "text/plain": [
              "21         2653\n",
              "26         2559\n",
              "31         2039\n",
              "50plus     1788\n",
              "36         1319\n",
              "41         1093\n",
              "46          686\n",
              "below21     547\n",
              "Name: age, dtype: int64"
            ]
          },
          "metadata": {},
          "execution_count": 14
        }
      ],
      "source": [
        "data['age'].value_counts()"
      ]
    },
    {
      "cell_type": "markdown",
      "source": [
        "**Comment**: Want to use age as a continuous variable, so converting to `int`"
      ],
      "metadata": {
        "id": "wQmSILiVn0m4"
      }
    },
    {
      "cell_type": "code",
      "source": [
        "data['age']=data['age'].replace('50plus','50').replace('below21','16')\n",
        "data['age']=data['age'].astype(int)\n",
        "data['age'].value_counts()"
      ],
      "metadata": {
        "id": "lLkjB6VNn_Lm",
        "outputId": "7697d05d-de2f-4281-9bfa-3e480f780b1d",
        "colab": {
          "base_uri": "https://localhost:8080/"
        }
      },
      "execution_count": 15,
      "outputs": [
        {
          "output_type": "execute_result",
          "data": {
            "text/plain": [
              "21    2653\n",
              "26    2559\n",
              "31    2039\n",
              "50    1788\n",
              "36    1319\n",
              "41    1093\n",
              "46     686\n",
              "16     547\n",
              "Name: age, dtype: int64"
            ]
          },
          "metadata": {},
          "execution_count": 15
        }
      ]
    },
    {
      "cell_type": "code",
      "execution_count": 16,
      "metadata": {
        "id": "nvfSNZMtnH4r",
        "outputId": "3a869eb9-b8d1-4d7f-fecd-80a61583d9dd",
        "colab": {
          "base_uri": "https://localhost:8080/"
        }
      },
      "outputs": [
        {
          "output_type": "execute_result",
          "data": {
            "text/plain": [
              "Married partner      5100\n",
              "Single               4752\n",
              "Unmarried partner    2186\n",
              "Divorced              516\n",
              "Widowed               130\n",
              "Name: maritalStatus, dtype: int64"
            ]
          },
          "metadata": {},
          "execution_count": 16
        }
      ],
      "source": [
        "data['maritalStatus'].value_counts()"
      ]
    },
    {
      "cell_type": "code",
      "execution_count": 17,
      "metadata": {
        "id": "fR2HypUJnH4r",
        "outputId": "eb8e098a-38dc-4f21-c158-f94f41b20ded",
        "colab": {
          "base_uri": "https://localhost:8080/"
        }
      },
      "outputs": [
        {
          "output_type": "execute_result",
          "data": {
            "text/plain": [
              "0    7431\n",
              "1    5253\n",
              "Name: has_children, dtype: int64"
            ]
          },
          "metadata": {},
          "execution_count": 17
        }
      ],
      "source": [
        "data['has_children'].value_counts()"
      ]
    },
    {
      "cell_type": "code",
      "execution_count": 18,
      "metadata": {
        "id": "3nN82H4knH4r",
        "outputId": "6d9823c5-76b7-4f76-999b-8eb2f2f1aa5a",
        "colab": {
          "base_uri": "https://localhost:8080/"
        }
      },
      "outputs": [
        {
          "output_type": "execute_result",
          "data": {
            "text/plain": [
              "Some college - no degree                  4351\n",
              "Bachelors degree                          4335\n",
              "Graduate degree (Masters or Doctorate)    1852\n",
              "Associates degree                         1153\n",
              "High School Graduate                       905\n",
              "Some High School                            88\n",
              "Name: education, dtype: int64"
            ]
          },
          "metadata": {},
          "execution_count": 18
        }
      ],
      "source": [
        "data['education'].value_counts()"
      ]
    },
    {
      "cell_type": "code",
      "execution_count": 19,
      "metadata": {
        "id": "OkZN7xbNnH4r",
        "outputId": "8c4815c7-9d80-45e3-daad-428d017b3e6b",
        "colab": {
          "base_uri": "https://localhost:8080/"
        }
      },
      "outputs": [
        {
          "output_type": "execute_result",
          "data": {
            "text/plain": [
              "Unemployed                                   1870\n",
              "Student                                      1584\n",
              "Computer & Mathematical                      1408\n",
              "Sales & Related                              1093\n",
              "Education&Training&Library                    943\n",
              "Management                                    838\n",
              "Office & Administrative Support               639\n",
              "Arts Design Entertainment Sports & Media      629\n",
              "Business & Financial                          544\n",
              "Retired                                       495\n",
              "Food Preparation & Serving Related            298\n",
              "Healthcare Practitioners & Technical          244\n",
              "Healthcare Support                            242\n",
              "Community & Social Services                   241\n",
              "Legal                                         219\n",
              "Transportation & Material Moving              218\n",
              "Architecture & Engineering                    175\n",
              "Personal Care & Service                       175\n",
              "Protective Service                            175\n",
              "Life Physical Social Science                  170\n",
              "Construction & Extraction                     154\n",
              "Installation Maintenance & Repair             133\n",
              "Production Occupations                        110\n",
              "Building & Grounds Cleaning & Maintenance      44\n",
              "Farming Fishing & Forestry                     43\n",
              "Name: occupation, dtype: int64"
            ]
          },
          "metadata": {},
          "execution_count": 19
        }
      ],
      "source": [
        "data['occupation'].value_counts()"
      ]
    },
    {
      "cell_type": "code",
      "execution_count": 20,
      "metadata": {
        "id": "K_iGo9tXnH4s",
        "outputId": "adb171c2-c6ce-4229-9f25-9af9f4842717",
        "colab": {
          "base_uri": "https://localhost:8080/"
        }
      },
      "outputs": [
        {
          "output_type": "execute_result",
          "data": {
            "text/plain": [
              "$25000 - $37499     2013\n",
              "$12500 - $24999     1831\n",
              "$37500 - $49999     1805\n",
              "$100000 or More     1736\n",
              "$50000 - $62499     1659\n",
              "Less than $12500    1042\n",
              "$87500 - $99999      895\n",
              "$75000 - $87499      857\n",
              "$62500 - $74999      846\n",
              "Name: income, dtype: int64"
            ]
          },
          "metadata": {},
          "execution_count": 20
        }
      ],
      "source": [
        "data['income'].value_counts()"
      ]
    },
    {
      "cell_type": "markdown",
      "source": [
        "Let's convert `income` to a continuous output to allow for easier visualization"
      ],
      "metadata": {
        "id": "-WX1vtpFeGQF"
      }
    },
    {
      "cell_type": "code",
      "source": [
        "inclist=list(data['income'].unique())\n",
        "\n",
        "data['income']=data['income'].replace({'$25000 - $37499':'31250','$12500 - $24999':'18750','$37500 - $49999':'43750','$100000 or More':'112500','$50000 - $62499':'56250','Less than $12500':'6250','$87500 - $99999':'93750','$75000 - $87499':'81250','$62500 - $74999':'68750'}).astype('int')\n",
        "data['income'].value_counts()"
      ],
      "metadata": {
        "id": "TqsMPbpieNpN",
        "outputId": "e74aaceb-ab3c-4d3d-faaf-ffd0e451c82f",
        "colab": {
          "base_uri": "https://localhost:8080/"
        }
      },
      "execution_count": 21,
      "outputs": [
        {
          "output_type": "execute_result",
          "data": {
            "text/plain": [
              "31250     2013\n",
              "18750     1831\n",
              "43750     1805\n",
              "112500    1736\n",
              "56250     1659\n",
              "6250      1042\n",
              "93750      895\n",
              "81250      857\n",
              "68750      846\n",
              "Name: income, dtype: int64"
            ]
          },
          "metadata": {},
          "execution_count": 21
        }
      ]
    },
    {
      "cell_type": "code",
      "execution_count": 22,
      "metadata": {
        "id": "_tAZkvh_nH4s",
        "outputId": "7a9f26f8-d3c9-467c-bc6b-95a04d5e4891",
        "colab": {
          "base_uri": "https://localhost:8080/"
        }
      },
      "outputs": [
        {
          "output_type": "execute_result",
          "data": {
            "text/plain": [
              "Scooter and motorcycle                      22\n",
              "Mazda5                                      22\n",
              "do not drive                                22\n",
              "crossover                                   21\n",
              "Car that is too old to install Onstar :D    21\n",
              "Name: car, dtype: int64"
            ]
          },
          "metadata": {},
          "execution_count": 22
        }
      ],
      "source": [
        "data['car'].value_counts()"
      ]
    },
    {
      "cell_type": "markdown",
      "metadata": {
        "id": "3kS2itFCnH4s"
      },
      "source": [
        "**Assumption:** The prompt states that these are *driving* coupons, i.e. all participants in the survey are drivers of a vehicle. Less than 1% (108 / 12,684) of participants specified the type of car they drove. Therefore, this column of data has a low probability of impacting analysis outcome. Will remove from dataset."
      ]
    },
    {
      "cell_type": "code",
      "execution_count": 23,
      "metadata": {
        "id": "jBqLUBIYnH4s"
      },
      "outputs": [],
      "source": [
        "data=data.drop('car',axis=1)"
      ]
    },
    {
      "cell_type": "code",
      "execution_count": 24,
      "metadata": {
        "id": "Bd9eQVMDnH4s",
        "outputId": "c0a6f827-32b2-45df-d635-7eb3467d5a48",
        "colab": {
          "base_uri": "https://localhost:8080/"
        }
      },
      "outputs": [
        {
          "output_type": "execute_result",
          "data": {
            "text/plain": [
              "never    5197\n",
              "less1    3482\n",
              "1~3      2473\n",
              "4~8      1076\n",
              "gt8       349\n",
              "Name: Bar, dtype: int64"
            ]
          },
          "metadata": {},
          "execution_count": 24
        }
      ],
      "source": [
        "data['Bar'].value_counts()\n",
        "#len(data['Bar'])"
      ]
    },
    {
      "cell_type": "markdown",
      "metadata": {
        "id": "DrxzT1nonH4t"
      },
      "source": [
        "**Assumption:** `NA` or `NaN` values for `Bar`, `CoffeHouse`, `CarryAway`, `RestaurantLessThan20`, and `Restaurant20To50` columns mean `never`"
      ]
    },
    {
      "cell_type": "code",
      "execution_count": 25,
      "metadata": {
        "id": "0rOBcnpKnH4t"
      },
      "outputs": [],
      "source": [
        "couptypes=['Bar','CoffeeHouse','CarryAway','RestaurantLessThan20','Restaurant20To50']\n",
        "data[couptypes]=data[couptypes].fillna('never')"
      ]
    },
    {
      "cell_type": "code",
      "source": [
        "data['Bar'].value_counts()"
      ],
      "metadata": {
        "id": "dR9W14FhpRI7",
        "outputId": "606b82b2-337c-4c97-ce6e-f7de1ed7ec48",
        "colab": {
          "base_uri": "https://localhost:8080/"
        }
      },
      "execution_count": 26,
      "outputs": [
        {
          "output_type": "execute_result",
          "data": {
            "text/plain": [
              "never    5304\n",
              "less1    3482\n",
              "1~3      2473\n",
              "4~8      1076\n",
              "gt8       349\n",
              "Name: Bar, dtype: int64"
            ]
          },
          "metadata": {},
          "execution_count": 26
        }
      ]
    },
    {
      "cell_type": "code",
      "source": [
        "data['CoffeeHouse'].value_counts()"
      ],
      "metadata": {
        "id": "xoLryKQBpUSX",
        "outputId": "6054ce91-9463-4d5e-c2e4-a1c01805fd81",
        "colab": {
          "base_uri": "https://localhost:8080/"
        }
      },
      "execution_count": 27,
      "outputs": [
        {
          "output_type": "execute_result",
          "data": {
            "text/plain": [
              "less1    3385\n",
              "1~3      3225\n",
              "never    3179\n",
              "4~8      1784\n",
              "gt8      1111\n",
              "Name: CoffeeHouse, dtype: int64"
            ]
          },
          "metadata": {},
          "execution_count": 27
        }
      ]
    },
    {
      "cell_type": "code",
      "source": [
        "data['CarryAway'].value_counts()"
      ],
      "metadata": {
        "id": "PkwqCXMnpWYD",
        "outputId": "15225660-31fc-467f-e13d-67ce2cb19eb7",
        "colab": {
          "base_uri": "https://localhost:8080/"
        }
      },
      "execution_count": 28,
      "outputs": [
        {
          "output_type": "execute_result",
          "data": {
            "text/plain": [
              "1~3      4672\n",
              "4~8      4258\n",
              "less1    1856\n",
              "gt8      1594\n",
              "never     304\n",
              "Name: CarryAway, dtype: int64"
            ]
          },
          "metadata": {},
          "execution_count": 28
        }
      ]
    },
    {
      "cell_type": "code",
      "source": [
        "data['RestaurantLessThan20'].value_counts()"
      ],
      "metadata": {
        "id": "_Qh5_yV0pZ3P",
        "outputId": "dbf2f636-797a-4194-ad6d-55a833924a07",
        "colab": {
          "base_uri": "https://localhost:8080/"
        }
      },
      "execution_count": 29,
      "outputs": [
        {
          "output_type": "execute_result",
          "data": {
            "text/plain": [
              "1~3      5376\n",
              "4~8      3580\n",
              "less1    2093\n",
              "gt8      1285\n",
              "never     350\n",
              "Name: RestaurantLessThan20, dtype: int64"
            ]
          },
          "metadata": {},
          "execution_count": 29
        }
      ]
    },
    {
      "cell_type": "code",
      "source": [
        "data['Restaurant20To50'].value_counts()"
      ],
      "metadata": {
        "id": "KybuoO06pdNW",
        "outputId": "2477a4ce-9fb0-4840-a357-9b7786b6a0cc",
        "colab": {
          "base_uri": "https://localhost:8080/"
        }
      },
      "execution_count": 30,
      "outputs": [
        {
          "output_type": "execute_result",
          "data": {
            "text/plain": [
              "less1    6077\n",
              "1~3      3290\n",
              "never    2325\n",
              "4~8       728\n",
              "gt8       264\n",
              "Name: Restaurant20To50, dtype: int64"
            ]
          },
          "metadata": {},
          "execution_count": 30
        }
      ]
    },
    {
      "cell_type": "code",
      "source": [
        "[data['toCoupon_GEQ5min'].value_counts(),data['toCoupon_GEQ15min'].value_counts(),data['toCoupon_GEQ25min'].value_counts()]"
      ],
      "metadata": {
        "id": "9wkNnmKmb8H6",
        "outputId": "284469b9-2b9d-4e9d-8a95-e43cf0258fd0",
        "colab": {
          "base_uri": "https://localhost:8080/"
        }
      },
      "execution_count": 31,
      "outputs": [
        {
          "output_type": "execute_result",
          "data": {
            "text/plain": [
              "[1    12684\n",
              " Name: toCoupon_GEQ5min, dtype: int64,\n",
              " 1    7122\n",
              " 0    5562\n",
              " Name: toCoupon_GEQ15min, dtype: int64,\n",
              " 0    11173\n",
              " 1     1511\n",
              " Name: toCoupon_GEQ25min, dtype: int64]"
            ]
          },
          "metadata": {},
          "execution_count": 31
        }
      ]
    },
    {
      "cell_type": "markdown",
      "source": [
        "**Comment:** Based on the data this information can be stored as a single column with one integer from the list: [5,15,25]\n",
        "\n",
        "Will name this new column `ttc`... Time to Coupon"
      ],
      "metadata": {
        "id": "GB6H1cNuc8wg"
      }
    },
    {
      "cell_type": "code",
      "source": [
        "data['ttc']=5\n",
        "for x in range(0,len(data)):\n",
        "  if data['toCoupon_GEQ25min'][x]==1:\n",
        "    data['ttc'][x]=25\n",
        "  elif data['toCoupon_GEQ15min'][x]==1:\n",
        "    data['ttc'][x]=15\n",
        "  else:\n",
        "    data['ttc'][x]=5"
      ],
      "metadata": {
        "id": "vDub9AbrdH8K",
        "outputId": "b2d78296-096c-4d3e-f234-a83e2fe4e07f",
        "colab": {
          "base_uri": "https://localhost:8080/"
        }
      },
      "execution_count": 32,
      "outputs": [
        {
          "output_type": "stream",
          "name": "stderr",
          "text": [
            "<ipython-input-32-2c9c19fd0767>:8: SettingWithCopyWarning: \n",
            "A value is trying to be set on a copy of a slice from a DataFrame\n",
            "\n",
            "See the caveats in the documentation: https://pandas.pydata.org/pandas-docs/stable/user_guide/indexing.html#returning-a-view-versus-a-copy\n",
            "  data['ttc'][x]=5\n",
            "<ipython-input-32-2c9c19fd0767>:6: SettingWithCopyWarning: \n",
            "A value is trying to be set on a copy of a slice from a DataFrame\n",
            "\n",
            "See the caveats in the documentation: https://pandas.pydata.org/pandas-docs/stable/user_guide/indexing.html#returning-a-view-versus-a-copy\n",
            "  data['ttc'][x]=15\n",
            "<ipython-input-32-2c9c19fd0767>:4: SettingWithCopyWarning: \n",
            "A value is trying to be set on a copy of a slice from a DataFrame\n",
            "\n",
            "See the caveats in the documentation: https://pandas.pydata.org/pandas-docs/stable/user_guide/indexing.html#returning-a-view-versus-a-copy\n",
            "  data['ttc'][x]=25\n"
          ]
        }
      ]
    },
    {
      "cell_type": "markdown",
      "source": [
        "**Comment:** Remove `toCoupon` columns as they don't serve a purpose anymore in the dataset"
      ],
      "metadata": {
        "id": "nJeZfiYLKVLf"
      }
    },
    {
      "cell_type": "code",
      "source": [
        "data=data.drop(['toCoupon_GEQ25min','toCoupon_GEQ15min','toCoupon_GEQ5min'],axis=1)"
      ],
      "metadata": {
        "id": "3t8OflgjRioP"
      },
      "execution_count": 33,
      "outputs": []
    },
    {
      "cell_type": "code",
      "source": [
        "data['direction_same'].value_counts()"
      ],
      "metadata": {
        "id": "1ax0yiTgfB5s",
        "outputId": "39357f01-489c-4a85-8670-f7599e97aaaf",
        "colab": {
          "base_uri": "https://localhost:8080/"
        }
      },
      "execution_count": 34,
      "outputs": [
        {
          "output_type": "execute_result",
          "data": {
            "text/plain": [
              "0    9960\n",
              "1    2724\n",
              "Name: direction_same, dtype: int64"
            ]
          },
          "metadata": {},
          "execution_count": 34
        }
      ]
    },
    {
      "cell_type": "markdown",
      "source": [
        "If `direction_same` and `direction_opp` are opposites, one should be removed from the dataframe because there's no purpose except future confusion"
      ],
      "metadata": {
        "id": "6ojhkrowfZ4D"
      }
    },
    {
      "cell_type": "code",
      "source": [
        "data['direction_same'].value_counts().max()==data['direction_opp'].value_counts().max()"
      ],
      "metadata": {
        "id": "cK2LuY3ffp5q",
        "outputId": "e8a88f44-2648-4ce6-ef9a-d936fa11dd0c",
        "colab": {
          "base_uri": "https://localhost:8080/"
        }
      },
      "execution_count": 35,
      "outputs": [
        {
          "output_type": "execute_result",
          "data": {
            "text/plain": [
              "True"
            ]
          },
          "metadata": {},
          "execution_count": 35
        }
      ]
    },
    {
      "cell_type": "code",
      "source": [
        "data=data.drop('direction_opp',axis=1)"
      ],
      "metadata": {
        "id": "bCwHeGysfwCD"
      },
      "execution_count": 36,
      "outputs": []
    },
    {
      "cell_type": "code",
      "source": [
        "data['Y'].value_counts()"
      ],
      "metadata": {
        "id": "7N1urDs5f55b",
        "outputId": "f4d4d1ae-490d-4cb9-a193-ab88df9b8b38",
        "colab": {
          "base_uri": "https://localhost:8080/"
        }
      },
      "execution_count": 37,
      "outputs": [
        {
          "output_type": "execute_result",
          "data": {
            "text/plain": [
              "1    7210\n",
              "0    5474\n",
              "Name: Y, dtype: int64"
            ]
          },
          "metadata": {},
          "execution_count": 37
        }
      ]
    },
    {
      "cell_type": "code",
      "source": [
        "data.info()"
      ],
      "metadata": {
        "id": "ezVfStxDR7qe",
        "outputId": "e9133254-b3af-4eed-bcc7-019b73ae3a33",
        "colab": {
          "base_uri": "https://localhost:8080/"
        }
      },
      "execution_count": 38,
      "outputs": [
        {
          "output_type": "stream",
          "name": "stdout",
          "text": [
            "<class 'pandas.core.frame.DataFrame'>\n",
            "RangeIndex: 12684 entries, 0 to 12683\n",
            "Data columns (total 22 columns):\n",
            " #   Column                Non-Null Count  Dtype \n",
            "---  ------                --------------  ----- \n",
            " 0   destination           12684 non-null  object\n",
            " 1   passenger             12684 non-null  object\n",
            " 2   weather               12684 non-null  object\n",
            " 3   temperature           12684 non-null  int64 \n",
            " 4   hourofday             12684 non-null  object\n",
            " 5   coupon                12684 non-null  object\n",
            " 6   expiration            12684 non-null  object\n",
            " 7   gender                12684 non-null  object\n",
            " 8   age                   12684 non-null  int64 \n",
            " 9   maritalStatus         12684 non-null  object\n",
            " 10  has_children          12684 non-null  int64 \n",
            " 11  education             12684 non-null  object\n",
            " 12  occupation            12684 non-null  object\n",
            " 13  income                12684 non-null  int64 \n",
            " 14  Bar                   12684 non-null  object\n",
            " 15  CoffeeHouse           12684 non-null  object\n",
            " 16  CarryAway             12684 non-null  object\n",
            " 17  RestaurantLessThan20  12684 non-null  object\n",
            " 18  Restaurant20To50      12684 non-null  object\n",
            " 19  direction_same        12684 non-null  int64 \n",
            " 20  Y                     12684 non-null  int64 \n",
            " 21  ttc                   12684 non-null  int64 \n",
            "dtypes: int64(7), object(15)\n",
            "memory usage: 2.1+ MB\n"
          ]
        }
      ]
    },
    {
      "cell_type": "markdown",
      "source": [
        "Let's look at all variables and all possible values"
      ],
      "metadata": {
        "id": "8W9VxVbZYHdQ"
      }
    },
    {
      "cell_type": "code",
      "source": [
        "values={}\n",
        "for x in range(0,len(data.columns)):\n",
        "  values[data.columns[x]]=list(data[''+data.columns[x]+''].unique())\n",
        "\n",
        "values"
      ],
      "metadata": {
        "id": "-5bqXSiUYG-i",
        "outputId": "4fa9a30d-02a1-4624-ec43-6f7b9ed11ede",
        "colab": {
          "base_uri": "https://localhost:8080/"
        }
      },
      "execution_count": 39,
      "outputs": [
        {
          "output_type": "execute_result",
          "data": {
            "text/plain": [
              "{'destination': ['No Urgent Place', 'Home', 'Work'],\n",
              " 'passenger': ['Alone', 'Friend(s)', 'Kid(s)', 'Partner'],\n",
              " 'weather': ['Sunny', 'Rainy', 'Snowy'],\n",
              " 'temperature': [55, 80, 30],\n",
              " 'hourofday': [14, 10, 18, 7, 22],\n",
              " 'coupon': ['Restaurant(<20)',\n",
              "  'Coffee House',\n",
              "  'Carry out & Take away',\n",
              "  'Bar',\n",
              "  'Restaurant(20-50)'],\n",
              " 'expiration': ['1d', '2h'],\n",
              " 'gender': ['Female', 'Male'],\n",
              " 'age': [21, 46, 26, 31, 41, 50, 36, 16],\n",
              " 'maritalStatus': ['Unmarried partner',\n",
              "  'Single',\n",
              "  'Married partner',\n",
              "  'Divorced',\n",
              "  'Widowed'],\n",
              " 'has_children': [1, 0],\n",
              " 'education': ['Some college - no degree',\n",
              "  'Bachelors degree',\n",
              "  'Associates degree',\n",
              "  'High School Graduate',\n",
              "  'Graduate degree (Masters or Doctorate)',\n",
              "  'Some High School'],\n",
              " 'occupation': ['Unemployed',\n",
              "  'Architecture & Engineering',\n",
              "  'Student',\n",
              "  'Education&Training&Library',\n",
              "  'Healthcare Support',\n",
              "  'Healthcare Practitioners & Technical',\n",
              "  'Sales & Related',\n",
              "  'Management',\n",
              "  'Arts Design Entertainment Sports & Media',\n",
              "  'Computer & Mathematical',\n",
              "  'Life Physical Social Science',\n",
              "  'Personal Care & Service',\n",
              "  'Community & Social Services',\n",
              "  'Office & Administrative Support',\n",
              "  'Construction & Extraction',\n",
              "  'Legal',\n",
              "  'Retired',\n",
              "  'Installation Maintenance & Repair',\n",
              "  'Transportation & Material Moving',\n",
              "  'Business & Financial',\n",
              "  'Protective Service',\n",
              "  'Food Preparation & Serving Related',\n",
              "  'Production Occupations',\n",
              "  'Building & Grounds Cleaning & Maintenance',\n",
              "  'Farming Fishing & Forestry'],\n",
              " 'income': [43750, 68750, 18750, 81250, 56250, 31250, 112500, 93750, 6250],\n",
              " 'Bar': ['never', 'less1', '1~3', 'gt8', '4~8'],\n",
              " 'CoffeeHouse': ['never', 'less1', '4~8', '1~3', 'gt8'],\n",
              " 'CarryAway': ['never', '4~8', '1~3', 'gt8', 'less1'],\n",
              " 'RestaurantLessThan20': ['4~8', '1~3', 'less1', 'gt8', 'never'],\n",
              " 'Restaurant20To50': ['1~3', 'less1', 'never', 'gt8', '4~8'],\n",
              " 'direction_same': [0, 1],\n",
              " 'Y': [1, 0],\n",
              " 'ttc': [5, 15, 25]}"
            ]
          },
          "metadata": {},
          "execution_count": 39
        }
      ]
    },
    {
      "cell_type": "markdown",
      "source": [
        "#### Check for outliers"
      ],
      "metadata": {
        "id": "00CsQ_88gZWP"
      }
    },
    {
      "cell_type": "code",
      "source": [
        "sns.pairplot(data)"
      ],
      "metadata": {
        "id": "TV_g4zRFiaec",
        "outputId": "6e77e884-db9e-442a-d041-cb8c6ffeb7df",
        "colab": {
          "base_uri": "https://localhost:8080/",
          "height": 1000
        }
      },
      "execution_count": 40,
      "outputs": [
        {
          "output_type": "execute_result",
          "data": {
            "text/plain": [
              "<seaborn.axisgrid.PairGrid at 0x7fea52f10d90>"
            ]
          },
          "metadata": {},
          "execution_count": 40
        },
        {
          "output_type": "display_data",
          "data": {
            "text/plain": [
              "<Figure size 2000x2000 with 72 Axes>"
            ],
            "image/png": "[encoded data removed]"
          },
          "metadata": {}
        }
      ]
    },
    {
      "cell_type": "code",
      "source": [
        "sns.pairplot(data,hue='Y')"
      ],
      "metadata": {
        "id": "AtxVvTHsM3IR"
      },
      "execution_count": null,
      "outputs": []
    },
    {
      "cell_type": "markdown",
      "source": [
        "**Comment:** Integer variables seem well-distributed without significant outliers visible\n",
        "\n",
        "#### Observations\n",
        "There's a stronger tendency for people to accept a coupon if...\n",
        "* The weather is warmer (`temperature` is higher)\n",
        "* The time is between 10AM - 6PM (`hourofday` is between 10 - 18)\n",
        "* Their age is 21-26 (`age` is between 21-26)\n",
        "* They don't have children (`has_children` is 0)\n",
        "* Your income is less than $62,500 or greater than $87,500 (`income !=\n",
        "* The coupon is in the opposite direction of where they're going (`direction_same` is 0)\n",
        "* The travel time to the business is 15 minutes or less (`ttc` <= 15)"
      ],
      "metadata": {
        "id": "Wr7ewtdQUPkF"
      }
    },
    {
      "cell_type": "markdown",
      "source": [
        "### Problems"
      ],
      "metadata": {
        "id": "PSLcvpwaO3Ta"
      }
    },
    {
      "cell_type": "code",
      "source": [],
      "metadata": {
        "id": "TOaBu7o_O6vR"
      },
      "execution_count": null,
      "outputs": []
    },
    {
      "cell_type": "markdown",
      "metadata": {
        "id": "wu5jG2AnnH4r"
      },
      "source": [
        "#### 4. What proportion of the total observations chose to accept the coupon?\n",
        "\n"
      ]
    },
    {
      "cell_type": "code",
      "source": [
        "len(data.query('Y==1'))/len(data)"
      ],
      "metadata": {
        "id": "NkQf59yQC2Ht"
      },
      "execution_count": null,
      "outputs": []
    },
    {
      "cell_type": "markdown",
      "source": [
        "Follow-up: based on the pairplot of the entire dataset with `hue=='Y'` and resulting observations, is there a higher acceptance rate using those observations as filters?"
      ],
      "metadata": {
        "id": "OuVUPfqNZcsM"
      }
    },
    {
      "cell_type": "code",
      "source": [
        "a='temperature==\"80\"'\n",
        "b='(hourofday>=10 & hourofday<=18)'\n",
        "c='(age==21 | age==26)'\n",
        "d='has_children==0'\n",
        "e='direction_same==0'\n",
        "f='ttc<=15'\n",
        "\n",
        "len(data.query(''+a+'&'+b+'&'+c+'&'+d+'&'+e+'&'+f+''))"
      ],
      "metadata": {
        "id": "Sj4UtMwcZ94f"
      },
      "execution_count": null,
      "outputs": []
    },
    {
      "cell_type": "markdown",
      "source": [
        "Nope, because filtering the data to include all of these criteria, simultaneously, results in no data"
      ],
      "metadata": {
        "id": "vwbsM4XCdUcg"
      }
    },
    {
      "cell_type": "markdown",
      "metadata": {
        "id": "b0b5tt0rnH4t"
      },
      "source": [
        "#### 5. Use a bar plot to visualize the `coupon` column."
      ]
    },
    {
      "cell_type": "code",
      "source": [
        "px.histogram(data,x='coupon',color='Y')"
      ],
      "metadata": {
        "id": "IaSKHg-FxUhj"
      },
      "execution_count": null,
      "outputs": []
    },
    {
      "cell_type": "markdown",
      "metadata": {
        "id": "LrKeQzvjnH4t"
      },
      "source": [
        "#### 6. Use a histogram to visualize the temperature column."
      ]
    },
    {
      "cell_type": "code",
      "execution_count": null,
      "metadata": {
        "id": "I0r3FD0onH4u"
      },
      "outputs": [],
      "source": [
        "sns.displot(data['temperature'],kde=True,rug=True)"
      ]
    },
    {
      "cell_type": "markdown",
      "metadata": {
        "id": "p6PiNlP-nH44"
      },
      "source": [
        "### **Investigating the Bar Coupons**\n",
        "\n",
        "Now, we will lead you through an exploration of just the bar related coupons.\n",
        "\n",
        "1. Create a new `DataFrame` that contains just the bar coupons.\n"
      ]
    },
    {
      "cell_type": "code",
      "execution_count": null,
      "metadata": {
        "id": "g0zqxsCinH45"
      },
      "outputs": [],
      "source": [
        "barcoup=data.query('coupon==\"Bar\"')\n",
        "barcoup.sample(10)"
      ]
    },
    {
      "cell_type": "markdown",
      "metadata": {
        "id": "P9EloJTonH45"
      },
      "source": [
        "#### 2. What proportion of bar coupons were accepted?\n"
      ]
    },
    {
      "cell_type": "code",
      "execution_count": null,
      "metadata": {
        "id": "HHQlSsZinH45"
      },
      "outputs": [],
      "source": [
        "len(barcoup.query('Y==1'))/len(barcoup)"
      ]
    },
    {
      "cell_type": "markdown",
      "metadata": {
        "id": "VFDYIwbhnH45"
      },
      "source": [
        "#### 3. Compare the acceptance rate between those who went to a bar 3 or fewer times a month to those who went more.\n"
      ]
    },
    {
      "cell_type": "code",
      "execution_count": null,
      "metadata": {
        "id": "ny-FbqaKnH46"
      },
      "outputs": [],
      "source": [
        "a='(Bar==\"never\" | Bar==\"less1\" | Bar==\"1~3\")'\n",
        "lessbar=len(barcoup.query(''+a+'& Y==1'))/len(barcoup.query(''+a+''))\n",
        "morebar=len(barcoup.query('~'+a+' & Y==1'))/len(barcoup.query('~'+a+''))\n",
        "[lessbar,morebar,len(barcoup.query(''+a+''))+len(barcoup.query('~'+a+'')),len(barcoup)]"
      ]
    },
    {
      "cell_type": "markdown",
      "metadata": {
        "id": "em19NMuxnH46"
      },
      "source": [
        "#### 4. Compare the acceptance rate between drivers who go to a bar more than once a month and are over the age of 25 to the all others.  Is there a difference?\n"
      ]
    },
    {
      "cell_type": "markdown",
      "source": [
        "**Assumption:** The # of visits for different types of establishments are monthly numbers even though it's not explicitly stated in the Data Description"
      ],
      "metadata": {
        "id": "NB8fM624FfBO"
      }
    },
    {
      "cell_type": "code",
      "execution_count": null,
      "metadata": {
        "id": "XwqjShQZnH46"
      },
      "outputs": [],
      "source": [
        "b='(Bar==\"1~3\" | Bar==\"4~8\" | Bar==\"gt8\")'\n",
        "c='(age!=\"below21\" | age!=\"21\")'\n",
        "bar1mo25=len(barcoup.query(''+b+' & '+c+' & Y==1'))/len(barcoup.query(''+b+' & '+c+''))\n",
        "notbar1mo25=len(barcoup.query('~('+b+' & '+c+') & Y==1'))/len(barcoup.query('~('+b+' & '+c+')'))\n",
        "[bar1mo25,notbar1mo25]"
      ]
    },
    {
      "cell_type": "markdown",
      "metadata": {
        "id": "-RFkcyVrnH46"
      },
      "source": [
        "#### 5. Use the same process to compare the acceptance rate between drivers who go to bars more than once a month and had passengers that were not a kid and had occupations other than farming, fishing, or forestry.\n"
      ]
    },
    {
      "cell_type": "code",
      "execution_count": null,
      "metadata": {
        "id": "jsQKD8kynH46"
      },
      "outputs": [],
      "source": [
        "d='(passenger==\"Friend(s)\" | passenger==\"Partner\")'\n",
        "e='(occupation!=\"Farming Fishing & Forestry\")'\n",
        "bar1monokid=len(barcoup.query(''+b+'&'+d+'&'+e+'& Y==1'))/len(barcoup.query(''+b+'&'+d+'&'+e+''))\n",
        "notbar1monokid=len(barcoup.query('~('+b+'&'+d+'&'+e+') & Y==1'))/len(barcoup.query('~('+b+'&'+d+'&'+e+')'))\n",
        "[bar1monokid,notbar1monokid]"
      ]
    },
    {
      "cell_type": "markdown",
      "metadata": {
        "id": "9b0Gis9nnH46"
      },
      "source": [
        "#### 6. Compare the acceptance rates between those drivers who:\n",
        "\n",
        "- go to bars more than once a month, had passengers that were not a kid, and were not widowed *OR*\n",
        "- go to bars more than once a month and are under the age of 30 *OR*\n",
        "- go to cheap restaurants more than 4 times a month and income is less than 50K.\n",
        "\n"
      ]
    },
    {
      "cell_type": "code",
      "execution_count": null,
      "metadata": {
        "id": "r12f3Y6bnH47"
      },
      "outputs": [],
      "source": [
        "f='maritalStatus!=\"Widowed\"'\n",
        "g='(age==\"below21\" | age==\"21\" | age==\"26\")'\n",
        "h='((RestaurantLessThan20==\"4~8\" | RestaurantLessThan20==\"gt8\") & (income==\"$12500 - $24999\" | income==\"Less than $12500\" | income==\"$25000 - $37499\" | income==\"$37500 - $49999\"))'\n",
        "\n",
        "i=len(barcoup.query(''+b+'&'+d+'&'+f+' & Y==1'))/len(barcoup.query(''+b+'&'+d+'&'+f+''))\n",
        "#j=len(barcoup.query(''+b+'&'+g+' & Y==1'))/len(barcoup.query(''+b+'&'+g+''))\n",
        "j=len(barcoup.query(''+b+'&'+g+''))\n",
        "k=len(barcoup.query(''+h+''))/len(barcoup.query(''+h+''))\n",
        "[i,j,k]"
      ]
    },
    {
      "cell_type": "markdown",
      "metadata": {
        "id": "UGsu4WdWnH47"
      },
      "source": [
        "#### 7.  Based on these observations, what do you hypothesize about drivers who accepted the bar coupons?"
      ]
    },
    {
      "cell_type": "code",
      "execution_count": null,
      "metadata": {
        "id": "usJxRITcnH47"
      },
      "outputs": [],
      "source": []
    },
    {
      "cell_type": "markdown",
      "metadata": {
        "id": "60EbsB4SnH47"
      },
      "source": [
        "### Independent Investigation: Coffee House\n",
        "\n",
        "Using the bar coupon example as motivation, you are to explore one of the other coupon groups and try to determine the characteristics of passengers who accept the coupons."
      ]
    },
    {
      "cell_type": "code",
      "execution_count": null,
      "metadata": {
        "id": "C2BowwXonH47"
      },
      "outputs": [],
      "source": [
        "sns.pairplot(data.query('coupon==\"Coffee House\"'),hue='CoffeeHouse')"
      ]
    },
    {
      "cell_type": "code",
      "execution_count": null,
      "metadata": {
        "id": "5y3oDYxrnH48"
      },
      "outputs": [],
      "source": [
        "cof=data.query('coupon==\"Coffee House\"')\n",
        "cof.sample(10)"
      ]
    },
    {
      "cell_type": "code",
      "execution_count": null,
      "metadata": {
        "id": "8YiDPwLNnH48"
      },
      "outputs": [],
      "source": [
        "px.histogram(cof,x='passenger',color='Y')"
      ]
    },
    {
      "cell_type": "code",
      "execution_count": null,
      "metadata": {
        "id": "hUjN9Od_nH48"
      },
      "outputs": [],
      "source": []
    },
    {
      "cell_type": "code",
      "execution_count": null,
      "metadata": {
        "id": "Oe_mMr2unH48"
      },
      "outputs": [],
      "source": []
    }
  ],
  "metadata": {
    "kernelspec": {
      "display_name": "Python 3",
      "language": "python",
      "name": "python3"
    },
    "language_info": {
      "codemirror_mode": {
        "name": "ipython",
        "version": 3
      },
      "file_extension": ".py",
      "mimetype": "text/x-python",
      "name": "python",
      "nbconvert_exporter": "python",
      "pygments_lexer": "ipython3",
      "version": "3.9.13"
    },
    "colab": {
      "provenance": [],
      "toc_visible": true
    }
  },
  "nbformat": 4,
  "nbformat_minor": 0
}